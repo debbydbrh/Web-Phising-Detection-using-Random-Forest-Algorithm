{
 "cells": [
  {
   "cell_type": "code",
   "execution_count": 1,
   "metadata": {},
   "outputs": [
    {
     "name": "stdout",
     "output_type": "stream",
     "text": [
      "\n",
      "\n",
      " Random Forest Algorithm Results \n"
     ]
    },
    {
     "name": "stderr",
     "output_type": "stream",
     "text": [
      "[Parallel(n_jobs=1)]: Using backend SequentialBackend with 1 concurrent workers.\n",
      "[Parallel(n_jobs=1)]: Done 100 out of 100 | elapsed:    0.5s finished\n"
     ]
    },
    {
     "name": "stdout",
     "output_type": "stream",
     "text": [
      "Feature ranking:\n",
      "1. feature 12 (0.415147)\n",
      "2. feature 20 (0.108798)\n",
      "3. feature 6 (0.095883)\n",
      "4. feature 13 (0.062497)\n",
      "5. feature 5 (0.060575)\n",
      "6. feature 14 (0.036470)\n",
      "7. feature 7 (0.025384)\n",
      "8. feature 11 (0.024869)\n",
      "9. feature 18 (0.021952)\n",
      "10. feature 0 (0.020425)\n",
      "11. feature 21 (0.019616)\n",
      "12. feature 19 (0.017519)\n",
      "13. feature 1 (0.011887)\n",
      "14. feature 8 (0.011105)\n",
      "15. feature 2 (0.010626)\n",
      "16. feature 15 (0.008897)\n",
      "17. feature 10 (0.008596)\n",
      "18. feature 22 (0.007880)\n",
      "19. feature 3 (0.007528)\n",
      "20. feature 16 (0.006908)\n",
      "21. feature 4 (0.006462)\n",
      "22. feature 9 (0.005532)\n",
      "23. feature 17 (0.005442)\n"
     ]
    },
    {
     "data": {
      "text/plain": [
       "['random_forest.pkl']"
      ]
     },
     "execution_count": 1,
     "metadata": {},
     "output_type": "execute_result"
    }
   ],
   "source": [
    "import numpy as np\n",
    "\n",
    "from sklearn.ensemble import RandomForestClassifier\n",
    "from sklearn.metrics import accuracy_score, classification_report\n",
    "from sklearn import metrics\n",
    "\n",
    "import sys\n",
    "import joblib\n",
    "\n",
    "labels=[]\n",
    "features=[]\n",
    "file=open('F:/Catatan Materi/Semester 7/KESLAN/project/Phishing usngin forest/Phishing-Website-Detection-Using-ML-master/Training Dataset.arff').read()\n",
    "\n",
    "list=file.split('\\n')\n",
    "\n",
    "data=np.array(list)\n",
    "data_new=[i.split(',') for i in data]\n",
    "data_new=data_new[0:-1]\n",
    "for i in data_new:\n",
    "\tlabels.append(i[30])\n",
    "data_new=np.array(data_new)\n",
    "\n",
    "features=data_new[:,:-1]\n",
    "\n",
    "features=features[:,[0,1,2,3,4,5,6,8,9,10,11,12,13,14,15,16,17,22,23,24,25,27,29]]\n",
    "\n",
    "features=np.array(features).astype(np.float)\n",
    "\n",
    "features_train=features\n",
    "labels_train=labels\n",
    "\n",
    "print(\"\\n\\n \"\"Random Forest Algorithm Results\"\" \")\n",
    "clf4 = RandomForestClassifier(min_samples_split=7, verbose=True)\n",
    "clf4.fit(features_train, labels_train)\n",
    "importances = clf4.feature_importances_\n",
    "\n",
    "indices = np.argsort(importances)[::-1]\n",
    "\n",
    "print(\"Feature ranking:\")\n",
    "for f in range(features_train.shape[1]):\n",
    "    print(\"%d. feature %d (%f)\" % (f + 1, indices[f], importances[indices[f]]))\n",
    "\n",
    "\n",
    "\n",
    "joblib.dump(clf4, 'random_forest.pkl',compress=9)\n"
   ]
  },
  {
   "cell_type": "code",
   "execution_count": null,
   "metadata": {},
   "outputs": [],
   "source": []
  }
 ],
 "metadata": {
  "kernelspec": {
   "display_name": "Python 3",
   "language": "python",
   "name": "python3"
  },
  "language_info": {
   "codemirror_mode": {
    "name": "ipython",
    "version": 3
   },
   "file_extension": ".py",
   "mimetype": "text/x-python",
   "name": "python",
   "nbconvert_exporter": "python",
   "pygments_lexer": "ipython3",
   "version": "3.6.5"
  }
 },
 "nbformat": 4,
 "nbformat_minor": 2
}
